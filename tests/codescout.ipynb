{
  "nbformat": 4,
  "nbformat_minor": 0,
  "metadata": {
    "colab": {
      "provenance": []
    },
    "kernelspec": {
      "name": "python3",
      "display_name": "Python 3"
    },
    "language_info": {
      "name": "python"
    }
  },
  "cells": [
    {
      "cell_type": "code",
      "execution_count": 6,
      "metadata": {
        "colab": {
          "base_uri": "https://localhost:8080/"
        },
        "id": "ZOEsIBVZ_Ktw",
        "outputId": "a8cdc678-ef8b-48b9-df59-ae1ff2059cc3"
      },
      "outputs": [
        {
          "output_type": "stream",
          "name": "stdout",
          "text": [
            "Requirement already satisfied: codescout in /usr/local/lib/python3.10/dist-packages (0.1.18)\n",
            "Requirement already satisfied: pillow in /usr/local/lib/python3.10/dist-packages (from codescout) (9.4.0)\n"
          ]
        }
      ],
      "source": [
        "!pip install codescout"
      ]
    },
    {
      "cell_type": "code",
      "source": [
        "from codescout import codescout"
      ],
      "metadata": {
        "id": "jEhsyBtf_YmS"
      },
      "execution_count": 7,
      "outputs": []
    },
    {
      "cell_type": "code",
      "source": [
        "codescout(\"Be:Prepared\",\"soleil\")"
      ],
      "metadata": {
        "colab": {
          "base_uri": "https://localhost:8080/",
          "height": 105
        },
        "id": "azWaQ6HK_dWC",
        "outputId": "695bbef3-a802-44ff-a538-ea37aaea3f83"
      },
      "execution_count": 8,
      "outputs": [
        {
          "output_type": "execute_result",
          "data": {
            "text/plain": [
              "<PIL.Image.Image image mode=1 size=352x88>"
            ],
            "image/png": "[encoded data removed]"
          },
          "metadata": {},
          "execution_count": 8
        }
      ]
    },
    {
      "cell_type": "code",
      "source": [
        "codescout(\"sois pret\", \"musical\", decoder=True, fonte='/usr/share/fonts/truetype/humor-sans/Humor-Sans.ttf')"
      ],
      "metadata": {
        "colab": {
          "base_uri": "https://localhost:8080/",
          "height": 177
        },
        "id": "yl4vfHx6_uJL",
        "outputId": "ea49112f-93e0-4edb-fbe5-7704fd01f841"
      },
      "execution_count": 10,
      "outputs": [
        {
          "output_type": "execute_result",
          "data": {
            "text/plain": [
              "<PIL.Image.Image image mode=1 size=240x160>"
            ],
            "image/png": "[encoded data removed]"
          },
          "metadata": {},
          "execution_count": 10
        }
      ]
    }
  ]
}